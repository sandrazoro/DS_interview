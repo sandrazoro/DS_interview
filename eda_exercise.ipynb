{
 "cells": [
  {
   "cell_type": "markdown",
   "id": "beea583a-bf73-40fd-a853-35e576bf5e4a",
   "metadata": {},
   "source": [
    "#### Welcome to the exercise!"
   ]
  },
  {
   "cell_type": "markdown",
   "id": "71faad23-0d1a-4547-ab91-0ae2bb0fc826",
   "metadata": {},
   "source": [
    "#### the goal of this exercise is to conduct an exploratory data analysis (EDA) on the provided online retail dataset and summarize key findings. We want to get better understanding of our customers, their historical spending patterns, any meaninful groupings of customers that you can find."
   ]
  },
  {
   "cell_type": "markdown",
   "id": "3f74e69e-0e92-4205-9abd-5dd3db424ea7",
   "metadata": {},
   "source": [
    "##### if you need to install a package, please execute the following !pip install package_name"
   ]
  },
  {
   "cell_type": "code",
   "execution_count": 2,
   "id": "984f4896-5c2b-476b-afa1-39db5b822d2a",
   "metadata": {},
   "outputs": [],
   "source": [
    "import pandas as pd\n",
    "import numpy as np\n",
    "import matplotlib.pyplot as plt\n",
    "import seaborn as sns"
   ]
  },
  {
   "cell_type": "code",
   "execution_count": null,
   "id": "93719c84-6df8-46a0-acd3-56a40f54b7a8",
   "metadata": {},
   "outputs": [],
   "source": []
  },
  {
   "cell_type": "code",
   "execution_count": null,
   "id": "0a0a9ac2-e527-425e-9f20-ce50a499c7b0",
   "metadata": {},
   "outputs": [],
   "source": []
  }
 ],
 "metadata": {
  "kernelspec": {
   "display_name": "Python 3 (ipykernel)",
   "language": "python",
   "name": "python3"
  },
  "language_info": {
   "codemirror_mode": {
    "name": "ipython",
    "version": 3
   },
   "file_extension": ".py",
   "mimetype": "text/x-python",
   "name": "python",
   "nbconvert_exporter": "python",
   "pygments_lexer": "ipython3",
   "version": "3.10.14"
  }
 },
 "nbformat": 4,
 "nbformat_minor": 5
}
